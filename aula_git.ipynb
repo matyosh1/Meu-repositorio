{
  "nbformat": 4,
  "nbformat_minor": 0,
  "metadata": {
    "colab": {
      "provenance": [],
      "authorship_tag": "ABX9TyNecEsEddNuviNazq7df/Me",
      "include_colab_link": true
    },
    "kernelspec": {
      "name": "python3",
      "display_name": "Python 3"
    },
    "language_info": {
      "name": "python"
    }
  },
  "cells": [
    {
      "cell_type": "markdown",
      "metadata": {
        "id": "view-in-github",
        "colab_type": "text"
      },
      "source": [
        "<a href=\"https://colab.research.google.com/github/matyosh1/Meu-repositorio/blob/main/aula_git.ipynb\" target=\"_parent\"><img src=\"https://colab.research.google.com/assets/colab-badge.svg\" alt=\"Open In Colab\"/></a>"
      ]
    },
    {
      "cell_type": "code",
      "execution_count": 1,
      "metadata": {
        "colab": {
          "base_uri": "https://localhost:8080/"
        },
        "id": "dIV_rhly0n6i",
        "outputId": "3a4aa408-5689-46ab-da32-08517737c9da"
      },
      "outputs": [
        {
          "output_type": "stream",
          "name": "stdout",
          "text": [
            "Digite um valor: 8\n",
            "Digite um valor: 8\n",
            "Resultado:  16.0\n"
          ]
        }
      ],
      "source": [
        "#como fazer um calculo utilizando input\n",
        "n1 = float(input(\"Digite um valor: \"))\n",
        "n2 = float(input(\"Digite um valor: \"))\n",
        "soma = n1 + n2\n",
        "print(\"Resultado: \",soma)\n"
      ]
    }
  ]
}